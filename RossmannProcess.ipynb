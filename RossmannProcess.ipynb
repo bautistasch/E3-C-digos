{
 "cells": [
  {
   "cell_type": "markdown",
   "id": "28867796",
   "metadata": {
    "papermill": {
     "duration": 0.014192,
     "end_time": "2023-11-29T00:26:45.315728",
     "exception": false,
     "start_time": "2023-11-29T00:26:45.301536",
     "status": "completed"
    },
    "tags": []
   },
   "source": [
    "# TP2 - Redes Neuronales (22.45)\n",
    "En este trabajo páctico se busca mejorar la red otorgada por la cátedra con todos los conocimientos vistos en las clases.\n",
    "\n",
    "Autor: Nicolás Bustelo - 61431"
   ]
  },
  {
   "cell_type": "code",
   "execution_count": 1,
   "id": "ab294fff",
   "metadata": {
    "execution": {
     "iopub.execute_input": "2023-11-29T00:26:45.345818Z",
     "iopub.status.busy": "2023-11-29T00:26:45.345409Z",
     "iopub.status.idle": "2023-11-29T00:26:59.940082Z",
     "shell.execute_reply": "2023-11-29T00:26:59.938847Z"
    },
    "papermill": {
     "duration": 14.614937,
     "end_time": "2023-11-29T00:26:59.944121",
     "exception": false,
     "start_time": "2023-11-29T00:26:45.329184",
     "status": "completed"
    },
    "tags": []
   },
   "outputs": [
    {
     "name": "stderr",
     "output_type": "stream",
     "text": [
      "/opt/conda/lib/python3.10/site-packages/scipy/__init__.py:146: UserWarning: A NumPy version >=1.16.5 and <1.23.0 is required for this version of SciPy (detected version 1.24.3\n",
      "  warnings.warn(f\"A NumPy version >={np_minversion} and <{np_maxversion}\"\n"
     ]
    }
   ],
   "source": [
    "from tensorflow.compat.v1 import ConfigProto\n",
    "from tensorflow.compat.v1 import InteractiveSession\n",
    "config = ConfigProto()\n",
    "config.gpu_options.allow_growth = True\n",
    "session = InteractiveSession(config=config)"
   ]
  },
  {
   "cell_type": "code",
   "execution_count": 2,
   "id": "2ff228c8",
   "metadata": {
    "execution": {
     "iopub.execute_input": "2023-11-29T00:26:59.971238Z",
     "iopub.status.busy": "2023-11-29T00:26:59.970658Z",
     "iopub.status.idle": "2023-11-29T00:26:59.977390Z",
     "shell.execute_reply": "2023-11-29T00:26:59.976693Z"
    },
    "papermill": {
     "duration": 0.022364,
     "end_time": "2023-11-29T00:26:59.979643",
     "exception": false,
     "start_time": "2023-11-29T00:26:59.957279",
     "status": "completed"
    },
    "tags": []
   },
   "outputs": [],
   "source": [
    "import pandas as pd\n",
    "import numpy as np\n",
    "import datetime\n",
    "from pandas_summary import DataFrameSummary"
   ]
  },
  {
   "cell_type": "code",
   "execution_count": 3,
   "id": "4aeef82c",
   "metadata": {
    "execution": {
     "iopub.execute_input": "2023-11-29T00:27:00.006180Z",
     "iopub.status.busy": "2023-11-29T00:27:00.005922Z",
     "iopub.status.idle": "2023-11-29T00:27:00.097189Z",
     "shell.execute_reply": "2023-11-29T00:27:00.096272Z"
    },
    "papermill": {
     "duration": 0.107281,
     "end_time": "2023-11-29T00:27:00.099499",
     "exception": false,
     "start_time": "2023-11-29T00:26:59.992218",
     "status": "completed"
    },
    "tags": []
   },
   "outputs": [],
   "source": [
    "from tensorflow.keras.utils import to_categorical"
   ]
  },
  {
   "cell_type": "code",
   "execution_count": 4,
   "id": "851f9f89",
   "metadata": {
    "execution": {
     "iopub.execute_input": "2023-11-29T00:27:00.126076Z",
     "iopub.status.busy": "2023-11-29T00:27:00.125768Z",
     "iopub.status.idle": "2023-11-29T00:27:01.524093Z",
     "shell.execute_reply": "2023-11-29T00:27:01.523284Z"
    },
    "papermill": {
     "duration": 1.414429,
     "end_time": "2023-11-29T00:27:01.526332",
     "exception": false,
     "start_time": "2023-11-29T00:27:00.111903",
     "status": "completed"
    },
    "tags": []
   },
   "outputs": [],
   "source": [
    "df = pd.read_feather('/kaggle/input/normalized/train_normalized_data.fth')\n",
    "df_test = pd.read_feather('/kaggle/input/normalized/test_normalized_data.fth')"
   ]
  },
  {
   "cell_type": "code",
   "execution_count": 5,
   "id": "ca4ca7f0",
   "metadata": {
    "execution": {
     "iopub.execute_input": "2023-11-29T00:27:01.554587Z",
     "iopub.status.busy": "2023-11-29T00:27:01.553862Z",
     "iopub.status.idle": "2023-11-29T00:27:01.559039Z",
     "shell.execute_reply": "2023-11-29T00:27:01.558167Z"
    },
    "papermill": {
     "duration": 0.02187,
     "end_time": "2023-11-29T00:27:01.561012",
     "exception": false,
     "start_time": "2023-11-29T00:27:01.539142",
     "status": "completed"
    },
    "tags": []
   },
   "outputs": [],
   "source": [
    "cat_vars = ['Store', 'DayOfWeek', 'Year', 'Month', 'Day', 'StateHoliday', 'CompetitionMonthsOpen', 'Promo2Weeks', \n",
    "            'StoreType', 'Assortment', 'PromoInterval', 'CompetitionOpenSinceYear', 'Promo2SinceYear', 'State', \n",
    "            'Week', 'Events', 'Promo_fw', 'Promo_bw', 'StateHoliday_bool_fw', 'StateHoliday_bool_bw', 'SchoolHoliday_fw', 'SchoolHoliday_bw']\n",
    "\n",
    "#cat_vars = ['Store', 'DayOfWeek']"
   ]
  },
  {
   "cell_type": "code",
   "execution_count": 6,
   "id": "b7a6044f",
   "metadata": {
    "execution": {
     "iopub.execute_input": "2023-11-29T00:27:01.587293Z",
     "iopub.status.busy": "2023-11-29T00:27:01.586747Z",
     "iopub.status.idle": "2023-11-29T00:27:01.592627Z",
     "shell.execute_reply": "2023-11-29T00:27:01.591892Z"
    },
    "papermill": {
     "duration": 0.021051,
     "end_time": "2023-11-29T00:27:01.594520",
     "exception": false,
     "start_time": "2023-11-29T00:27:01.573469",
     "status": "completed"
    },
    "tags": []
   },
   "outputs": [],
   "source": [
    "contin_vars = ['CompetitionDistance', \n",
    "   'Max_TemperatureC', 'Mean_TemperatureC', 'Min_TemperatureC', 'Precipitationmm',\n",
    "   'Max_Humidity', 'Mean_Humidity', 'Min_Humidity', 'Max_Wind_SpeedKm_h', \n",
    "   'Mean_Wind_SpeedKm_h', 'CloudCover', 'trend', 'trend_DE',\n",
    "   'AfterStateHoliday_bool', 'BeforeStateHoliday_bool', 'Promo', 'SchoolHoliday', 'StateHoliday_bool']\n",
    "#contin_vars = ['BeforeStateHoliday_bool', 'Max_TemperatureC']"
   ]
  },
  {
   "cell_type": "code",
   "execution_count": 7,
   "id": "7c425e7d",
   "metadata": {
    "execution": {
     "iopub.execute_input": "2023-11-29T00:27:01.620312Z",
     "iopub.status.busy": "2023-11-29T00:27:01.620054Z",
     "iopub.status.idle": "2023-11-29T00:27:03.285839Z",
     "shell.execute_reply": "2023-11-29T00:27:03.284998Z"
    },
    "papermill": {
     "duration": 1.680961,
     "end_time": "2023-11-29T00:27:03.287956",
     "exception": false,
     "start_time": "2023-11-29T00:27:01.606995",
     "status": "completed"
    },
    "tags": []
   },
   "outputs": [
    {
     "data": {
      "text/html": [
       "<div>\n",
       "<style scoped>\n",
       "    .dataframe tbody tr th:only-of-type {\n",
       "        vertical-align: middle;\n",
       "    }\n",
       "\n",
       "    .dataframe tbody tr th {\n",
       "        vertical-align: top;\n",
       "    }\n",
       "\n",
       "    .dataframe thead th {\n",
       "        text-align: right;\n",
       "    }\n",
       "</style>\n",
       "<table border=\"1\" class=\"dataframe\">\n",
       "  <thead>\n",
       "    <tr style=\"text-align: right;\">\n",
       "      <th></th>\n",
       "      <th>uniques</th>\n",
       "    </tr>\n",
       "  </thead>\n",
       "  <tbody>\n",
       "    <tr>\n",
       "      <th>Store</th>\n",
       "      <td>1115</td>\n",
       "    </tr>\n",
       "    <tr>\n",
       "      <th>DayOfWeek</th>\n",
       "      <td>7</td>\n",
       "    </tr>\n",
       "    <tr>\n",
       "      <th>Year</th>\n",
       "      <td>3</td>\n",
       "    </tr>\n",
       "    <tr>\n",
       "      <th>Month</th>\n",
       "      <td>12</td>\n",
       "    </tr>\n",
       "    <tr>\n",
       "      <th>Day</th>\n",
       "      <td>31</td>\n",
       "    </tr>\n",
       "    <tr>\n",
       "      <th>StateHoliday</th>\n",
       "      <td>4</td>\n",
       "    </tr>\n",
       "    <tr>\n",
       "      <th>CompetitionMonthsOpen</th>\n",
       "      <td>25</td>\n",
       "    </tr>\n",
       "    <tr>\n",
       "      <th>Promo2Weeks</th>\n",
       "      <td>26</td>\n",
       "    </tr>\n",
       "    <tr>\n",
       "      <th>StoreType</th>\n",
       "      <td>4</td>\n",
       "    </tr>\n",
       "    <tr>\n",
       "      <th>Assortment</th>\n",
       "      <td>3</td>\n",
       "    </tr>\n",
       "    <tr>\n",
       "      <th>PromoInterval</th>\n",
       "      <td>4</td>\n",
       "    </tr>\n",
       "    <tr>\n",
       "      <th>CompetitionOpenSinceYear</th>\n",
       "      <td>21</td>\n",
       "    </tr>\n",
       "    <tr>\n",
       "      <th>Promo2SinceYear</th>\n",
       "      <td>8</td>\n",
       "    </tr>\n",
       "    <tr>\n",
       "      <th>State</th>\n",
       "      <td>12</td>\n",
       "    </tr>\n",
       "    <tr>\n",
       "      <th>Week</th>\n",
       "      <td>52</td>\n",
       "    </tr>\n",
       "    <tr>\n",
       "      <th>Events</th>\n",
       "      <td>22</td>\n",
       "    </tr>\n",
       "    <tr>\n",
       "      <th>Promo_fw</th>\n",
       "      <td>6</td>\n",
       "    </tr>\n",
       "    <tr>\n",
       "      <th>Promo_bw</th>\n",
       "      <td>6</td>\n",
       "    </tr>\n",
       "    <tr>\n",
       "      <th>StateHoliday_bool_fw</th>\n",
       "      <td>3</td>\n",
       "    </tr>\n",
       "    <tr>\n",
       "      <th>StateHoliday_bool_bw</th>\n",
       "      <td>3</td>\n",
       "    </tr>\n",
       "    <tr>\n",
       "      <th>SchoolHoliday_fw</th>\n",
       "      <td>8</td>\n",
       "    </tr>\n",
       "    <tr>\n",
       "      <th>SchoolHoliday_bw</th>\n",
       "      <td>8</td>\n",
       "    </tr>\n",
       "  </tbody>\n",
       "</table>\n",
       "</div>"
      ],
      "text/plain": [
       "                         uniques\n",
       "Store                       1115\n",
       "DayOfWeek                      7\n",
       "Year                           3\n",
       "Month                         12\n",
       "Day                           31\n",
       "StateHoliday                   4\n",
       "CompetitionMonthsOpen         25\n",
       "Promo2Weeks                   26\n",
       "StoreType                      4\n",
       "Assortment                     3\n",
       "PromoInterval                  4\n",
       "CompetitionOpenSinceYear      21\n",
       "Promo2SinceYear                8\n",
       "State                         12\n",
       "Week                          52\n",
       "Events                        22\n",
       "Promo_fw                       6\n",
       "Promo_bw                       6\n",
       "StateHoliday_bool_fw           3\n",
       "StateHoliday_bool_bw           3\n",
       "SchoolHoliday_fw               8\n",
       "SchoolHoliday_bw               8"
      ]
     },
     "execution_count": 7,
     "metadata": {},
     "output_type": "execute_result"
    }
   ],
   "source": [
    "uniques = DataFrameSummary(df[cat_vars]).summary().loc[['uniques']]\n",
    "uniques.T"
   ]
  },
  {
   "cell_type": "markdown",
   "id": "10b16c1d",
   "metadata": {
    "papermill": {
     "duration": 0.012136,
     "end_time": "2023-11-29T00:27:03.313245",
     "exception": false,
     "start_time": "2023-11-29T00:27:03.301109",
     "status": "completed"
    },
    "tags": []
   },
   "source": [
    "# Asignación de dimensión de embeddings"
   ]
  },
  {
   "cell_type": "code",
   "execution_count": 8,
   "id": "6ad5c896",
   "metadata": {
    "execution": {
     "iopub.execute_input": "2023-11-29T00:27:03.339767Z",
     "iopub.status.busy": "2023-11-29T00:27:03.339457Z",
     "iopub.status.idle": "2023-11-29T00:27:03.346026Z",
     "shell.execute_reply": "2023-11-29T00:27:03.345113Z"
    },
    "papermill": {
     "duration": 0.021788,
     "end_time": "2023-11-29T00:27:03.347853",
     "exception": false,
     "start_time": "2023-11-29T00:27:03.326065",
     "status": "completed"
    },
    "tags": []
   },
   "outputs": [],
   "source": [
    "'''\n",
    "cat_var_dict = {'Store': 50, 'DayOfWeek': 7, 'Year': 2, 'Month': 12,\n",
    "'Day': 10, 'StateHoliday': 2, 'CompetitionMonthsOpen': 2,\n",
    "'Promo2Weeks': 1, 'StoreType': 2, 'Assortment': 3, 'PromoInterval': 3,\n",
    "'CompetitionOpenSinceYear': 4, 'Promo2SinceYear': 4, 'State': 6,\n",
    "'Week': 25, 'Events': 4, 'Promo_fw': 1,\n",
    "'Promo_bw': 1, 'StateHoliday_bool_fw': 1,\n",
    "'StateHoliday_bool_bw': 1, 'SchoolHoliday_fw': 1,\n",
    "'SchoolHoliday_bw': 1}\n",
    "'''\n",
    "cat_var_dict = {\n",
    "    'Store': 1115, \n",
    "    'DayOfWeek': 7, \n",
    "    'Year': 3, \n",
    "    'Month': 12,\n",
    "    'Day': 31, \n",
    "    'StateHoliday': 4, \n",
    "    'CompetitionMonthsOpen': 25,\n",
    "    'Promo2Weeks': 26,\n",
    "    'StoreType': 4,\n",
    "    'Assortment': 3,\n",
    "    'PromoInterval': 4,\n",
    "    'CompetitionOpenSinceYear': 21,\n",
    "    'Promo2SinceYear': 8, \n",
    "    'State': 12,\n",
    "    'Week': 52,\n",
    "    'Events': 22,\n",
    "    'Promo_fw': 6,\n",
    "    'Promo_bw': 6,\n",
    "    'StateHoliday_bool_fw': 3,\n",
    "    'StateHoliday_bool_bw': 3,\n",
    "    'SchoolHoliday_fw': 8,\n",
    "    'SchoolHoliday_bw': 8}"
   ]
  },
  {
   "cell_type": "code",
   "execution_count": 9,
   "id": "6945efed",
   "metadata": {
    "execution": {
     "iopub.execute_input": "2023-11-29T00:27:03.374481Z",
     "iopub.status.busy": "2023-11-29T00:27:03.374178Z",
     "iopub.status.idle": "2023-11-29T00:27:03.474586Z",
     "shell.execute_reply": "2023-11-29T00:27:03.473558Z"
    },
    "papermill": {
     "duration": 0.11692,
     "end_time": "2023-11-29T00:27:03.477582",
     "exception": false,
     "start_time": "2023-11-29T00:27:03.360662",
     "status": "completed"
    },
    "tags": []
   },
   "outputs": [
    {
     "name": "stdout",
     "output_type": "stream",
     "text": [
      "Store 1115 1115 [   0    1    2 ... 1112 1113 1114]\n",
      "\n",
      "DayOfWeek 7 7 [0 1 2 3 4 5 6]\n",
      "\n",
      "Year 3 3 [0 1 2]\n",
      "\n",
      "Month 12 12 [ 0  1  2  3  4  5  6  7  8  9 10 11]\n",
      "\n",
      "Day 31 31 [ 0  1  2  3  4  5  6  7  8  9 10 11 12 13 14 15 16 17 18 19 20 21 22 23\n",
      " 24 25 26 27 28 29 30]\n",
      "\n",
      "StateHoliday 4 4 [0 1 2 3]\n",
      "\n",
      "CompetitionMonthsOpen 25 25 [ 0  1  2  3  4  5  6  7  8  9 10 11 12 13 14 15 16 17 18 19 20 21 22 23\n",
      " 24]\n",
      "\n",
      "Promo2Weeks 26 26 [ 0  1  2  3  4  5  6  7  8  9 10 11 12 13 14 15 16 17 18 19 20 21 22 23\n",
      " 24 25]\n",
      "\n",
      "StoreType 4 4 [0 1 2 3]\n",
      "\n",
      "Assortment 3 3 [0 1 2]\n",
      "\n",
      "PromoInterval 4 4 [0 1 2 3]\n",
      "\n",
      "CompetitionOpenSinceYear 21 21 [ 0  1  2  3  4  5  6  7  8  9 10 11 12 13 14 15 16 17 18 19 20]\n",
      "\n",
      "Promo2SinceYear 8 8 [0 1 2 3 4 5 6 7]\n",
      "\n",
      "State 12 12 [ 0  1  2  3  4  5  6  7  8  9 10 11]\n",
      "\n",
      "Week 52 52 [ 0  1  2  3  4  5  6  7  8  9 10 11 12 13 14 15 16 17 18 19 20 21 22 23\n",
      " 24 25 26 27 28 29 30 31 32 33 34 35 36 37 38 39 40 41 42 43 44 45 46 47\n",
      " 48 49 50 51]\n",
      "\n",
      "Events 22 22 [ 0  1  2  3  4  5  6  7  8  9 10 11 12 13 14 15 16 17 18 19 20 21]\n",
      "\n",
      "Promo_fw 6 6 [0 1 2 3 4 5]\n",
      "\n",
      "Promo_bw 6 6 [0 1 2 3 4 5]\n",
      "\n",
      "StateHoliday_bool_fw 3 3 [0 1 2]\n",
      "\n",
      "StateHoliday_bool_bw 3 3 [0 1 2]\n",
      "\n",
      "SchoolHoliday_fw 8 8 [0 1 2 3 4 5 6 7]\n",
      "\n",
      "SchoolHoliday_bw 8 8 [0 1 2 3 4 5 6 7]\n",
      "\n"
     ]
    }
   ],
   "source": [
    "for v in cat_vars:\n",
    "    uniques_ = df[v].unique()\n",
    "    uniques_.sort()\n",
    "    print(v, cat_var_dict[v], len(uniques_), uniques_)\n",
    "    print()"
   ]
  },
  {
   "cell_type": "markdown",
   "id": "8248fa70",
   "metadata": {
    "papermill": {
     "duration": 0.012469,
     "end_time": "2023-11-29T00:27:03.552369",
     "exception": false,
     "start_time": "2023-11-29T00:27:03.539900",
     "status": "completed"
    },
    "tags": []
   },
   "source": [
    "# Definición de modelo"
   ]
  },
  {
   "cell_type": "code",
   "execution_count": 10,
   "id": "5b6934cb",
   "metadata": {
    "execution": {
     "iopub.execute_input": "2023-11-29T00:27:03.580546Z",
     "iopub.status.busy": "2023-11-29T00:27:03.579680Z",
     "iopub.status.idle": "2023-11-29T00:27:03.587490Z",
     "shell.execute_reply": "2023-11-29T00:27:03.586731Z"
    },
    "papermill": {
     "duration": 0.023865,
     "end_time": "2023-11-29T00:27:03.589383",
     "exception": false,
     "start_time": "2023-11-29T00:27:03.565518",
     "status": "completed"
    },
    "tags": []
   },
   "outputs": [],
   "source": [
    "from tensorflow.keras.models import Model\n",
    "from tensorflow.keras.callbacks import ModelCheckpoint\n",
    "from tensorflow.keras.optimizers import Adam\n",
    "from tensorflow.keras.layers import Embedding, Input, Flatten, Concatenate, Dense, BatchNormalization, Activation, LeakyReLU, Dropout\n",
    "from tensorflow.keras.regularizers import l2"
   ]
  },
  {
   "cell_type": "code",
   "execution_count": 11,
   "id": "a918f8d6",
   "metadata": {
    "execution": {
     "iopub.execute_input": "2023-11-29T00:27:03.615815Z",
     "iopub.status.busy": "2023-11-29T00:27:03.615554Z",
     "iopub.status.idle": "2023-11-29T00:27:03.623246Z",
     "shell.execute_reply": "2023-11-29T00:27:03.622438Z"
    },
    "papermill": {
     "duration": 0.023056,
     "end_time": "2023-11-29T00:27:03.625059",
     "exception": false,
     "start_time": "2023-11-29T00:27:03.602003",
     "status": "completed"
    },
    "tags": []
   },
   "outputs": [],
   "source": [
    "def get_cat_vars_model(cat_vars, uniques, cat_var_dict):\n",
    "    cat_vars_embed_outs = []\n",
    "    cat_var_inputs = []\n",
    "    for cat_var in cat_vars:\n",
    "        cat_var_in = Input(shape=(1,), name=f\"{cat_var}_input\")\n",
    "        cat_var_inputs.append(cat_var_in)\n",
    "        embed_out = Embedding(uniques[cat_var][0], cat_var_dict[cat_var], name=f'{cat_var}_Embed')(cat_var_in)\n",
    "        flatten_out = Flatten(name=f\"{cat_var}_flat\")(embed_out)\n",
    "        cat_vars_embed_outs.append(flatten_out)\n",
    "    return cat_var_inputs, cat_vars_embed_outs\n",
    "\n",
    "def get_cont_vars_input(contin_vars, dense_layer=False):\n",
    "    cont_vars_inputs = []\n",
    "    cont_vars_outputs = []\n",
    "    for cont_var in contin_vars:\n",
    "        cont_var_in = Input(shape=(1,), name=f\"{cont_var}_input\")\n",
    "        cont_vars_inputs.append(cont_var_in)\n",
    "        if dense_layer:\n",
    "            cont_var_out = Dense(1, name=f\"{cont_var}_input\", activation = 'linear')(cont_var_in)\n",
    "            cont_vars_outputs.append(cont_var_out)\n",
    "        else:\n",
    "            cont_vars_outputs.append(cont_var_in)\n",
    "    return cont_vars_inputs, cont_vars_outputs"
   ]
  },
  {
   "cell_type": "code",
   "execution_count": 12,
   "id": "339da2e4",
   "metadata": {
    "execution": {
     "iopub.execute_input": "2023-11-29T00:27:03.651457Z",
     "iopub.status.busy": "2023-11-29T00:27:03.651158Z",
     "iopub.status.idle": "2023-11-29T00:27:04.036927Z",
     "shell.execute_reply": "2023-11-29T00:27:04.036160Z"
    },
    "papermill": {
     "duration": 0.401586,
     "end_time": "2023-11-29T00:27:04.039278",
     "exception": false,
     "start_time": "2023-11-29T00:27:03.637692",
     "status": "completed"
    },
    "tags": []
   },
   "outputs": [
    {
     "name": "stderr",
     "output_type": "stream",
     "text": [
      "/tmp/ipykernel_26/543933484.py:7: FutureWarning: Series.__getitem__ treating keys as positions is deprecated. In a future version, integer keys will always be treated as labels (consistent with DataFrame behavior). To access a value by position, use `ser.iloc[pos]`\n",
      "  embed_out = Embedding(uniques[cat_var][0], cat_var_dict[cat_var], name=f'{cat_var}_Embed')(cat_var_in)\n"
     ]
    }
   ],
   "source": [
    "add_customers = True\n",
    "log_output = True\n",
    "output_activation = 'linear'\n",
    "cat_var_inputs, cat_vars_embed_outs = get_cat_vars_model(cat_vars, uniques, cat_var_dict)\n",
    "cont_vars_inputs,  cont_vars_outs= get_cont_vars_input(contin_vars)"
   ]
  },
  {
   "cell_type": "code",
   "execution_count": 13,
   "id": "b99915b3",
   "metadata": {
    "execution": {
     "iopub.execute_input": "2023-11-29T00:27:04.066835Z",
     "iopub.status.busy": "2023-11-29T00:27:04.066544Z",
     "iopub.status.idle": "2023-11-29T00:27:04.070396Z",
     "shell.execute_reply": "2023-11-29T00:27:04.069619Z"
    },
    "papermill": {
     "duration": 0.019299,
     "end_time": "2023-11-29T00:27:04.072274",
     "exception": false,
     "start_time": "2023-11-29T00:27:04.052975",
     "status": "completed"
    },
    "tags": []
   },
   "outputs": [],
   "source": [
    "# Descomentar para ver resultados\n",
    "# cat_vars_embed_outs\n",
    "# cat_var_inputs\n",
    "# cont_vars_inputs\n",
    "# cont_vars_outs"
   ]
  },
  {
   "cell_type": "markdown",
   "id": "69de1114",
   "metadata": {
    "papermill": {
     "duration": 0.012588,
     "end_time": "2023-11-29T00:27:04.097646",
     "exception": false,
     "start_time": "2023-11-29T00:27:04.085058",
     "status": "completed"
    },
    "tags": []
   },
   "source": [
    "## Modelo de red"
   ]
  },
  {
   "cell_type": "code",
   "execution_count": 14,
   "id": "52397ea9",
   "metadata": {
    "execution": {
     "iopub.execute_input": "2023-11-29T00:27:04.124495Z",
     "iopub.status.busy": "2023-11-29T00:27:04.124190Z",
     "iopub.status.idle": "2023-11-29T00:27:04.130391Z",
     "shell.execute_reply": "2023-11-29T00:27:04.129540Z"
    },
    "papermill": {
     "duration": 0.02149,
     "end_time": "2023-11-29T00:27:04.132190",
     "exception": false,
     "start_time": "2023-11-29T00:27:04.110700",
     "status": "completed"
    },
    "tags": []
   },
   "outputs": [],
   "source": [
    "# Importo las bibliotecas a utilizar\n",
    "from tensorflow.keras.models import Sequential\n",
    "from tensorflow.keras.layers import Dense, Dropout, BatchNormalization, Flatten\n",
    "from tensorflow.keras.optimizers import SGD, Adam, RMSprop\n",
    "from tensorflow.keras.regularizers import l1, l2\n",
    "from tensorflow.keras.constraints import MaxNorm\n",
    "from tensorflow.keras import initializers\n",
    "from tensorflow.keras.callbacks import ReduceLROnPlateau, EarlyStopping, ModelCheckpoint, TensorBoard"
   ]
  },
  {
   "cell_type": "code",
   "execution_count": 15,
   "id": "bf0d4dce",
   "metadata": {
    "execution": {
     "iopub.execute_input": "2023-11-29T00:27:04.158476Z",
     "iopub.status.busy": "2023-11-29T00:27:04.158191Z",
     "iopub.status.idle": "2023-11-29T00:27:04.298447Z",
     "shell.execute_reply": "2023-11-29T00:27:04.297684Z"
    },
    "papermill": {
     "duration": 0.155868,
     "end_time": "2023-11-29T00:27:04.300695",
     "exception": false,
     "start_time": "2023-11-29T00:27:04.144827",
     "status": "completed"
    },
    "tags": []
   },
   "outputs": [],
   "source": [
    "l2_lambda = 1e-4\n",
    "merged = Concatenate(name='All_Concatenate')(cat_vars_embed_outs + cont_vars_inputs)\n",
    "\n",
    "x = Dense(1024, kernel_constraint=MaxNorm(5), kernel_initializer=initializers.RandomNormal(stddev=0.1), kernel_regularizer=l2(l2_lambda))(merged)\n",
    "x = BatchNormalization()(x)\n",
    "x = Activation('relu')(x)\n",
    "x = Dropout(0.1)(x)\n",
    "\n",
    "x = Dense(515, kernel_constraint=MaxNorm(5))(merged)\n",
    "x = Activation('relu')(x)\n",
    "x = Dropout(0.1)(x)\n",
    "\n",
    "x = Dense(1024, kernel_constraint=MaxNorm(5), kernel_initializer=initializers.RandomNormal(stddev=0.1), kernel_regularizer=l2(l2_lambda))(x)\n",
    "x = BatchNormalization()(x)\n",
    "x = Activation('relu')(x)\n",
    "x = Dropout(0.1)(x)\n",
    "\n",
    "# x = LeakyReLU()(x)\n",
    "\n",
    "output_1 = Dense(1, name='Sales', activation=output_activation)(x)\n",
    "output_2 = Dense(1, name='Customers', activation=output_activation)(x)"
   ]
  },
  {
   "cell_type": "code",
   "execution_count": 16,
   "id": "385889f9",
   "metadata": {
    "execution": {
     "iopub.execute_input": "2023-11-29T00:27:04.328150Z",
     "iopub.status.busy": "2023-11-29T00:27:04.327852Z",
     "iopub.status.idle": "2023-11-29T00:27:04.345652Z",
     "shell.execute_reply": "2023-11-29T00:27:04.344915Z"
    },
    "papermill": {
     "duration": 0.033691,
     "end_time": "2023-11-29T00:27:04.347619",
     "exception": false,
     "start_time": "2023-11-29T00:27:04.313928",
     "status": "completed"
    },
    "tags": []
   },
   "outputs": [],
   "source": [
    "if add_customers:\n",
    "    model = Model(cat_var_inputs + cont_vars_inputs, [output_1, output_2])\n",
    "else: \n",
    "    model = Model(cat_var_inputs + cont_vars_inputs, [output_1])"
   ]
  },
  {
   "cell_type": "code",
   "execution_count": 17,
   "id": "7378b407",
   "metadata": {
    "execution": {
     "iopub.execute_input": "2023-11-29T00:27:04.374631Z",
     "iopub.status.busy": "2023-11-29T00:27:04.374043Z",
     "iopub.status.idle": "2023-11-29T00:27:04.377825Z",
     "shell.execute_reply": "2023-11-29T00:27:04.376981Z"
    },
    "papermill": {
     "duration": 0.01935,
     "end_time": "2023-11-29T00:27:04.379721",
     "exception": false,
     "start_time": "2023-11-29T00:27:04.360371",
     "status": "completed"
    },
    "tags": []
   },
   "outputs": [],
   "source": [
    "# Descomentar para ver\n",
    "#model.summary()"
   ]
  },
  {
   "cell_type": "code",
   "execution_count": 18,
   "id": "da1f9fe3",
   "metadata": {
    "execution": {
     "iopub.execute_input": "2023-11-29T00:27:04.406258Z",
     "iopub.status.busy": "2023-11-29T00:27:04.405977Z",
     "iopub.status.idle": "2023-11-29T00:27:04.482983Z",
     "shell.execute_reply": "2023-11-29T00:27:04.482226Z"
    },
    "papermill": {
     "duration": 0.092842,
     "end_time": "2023-11-29T00:27:04.485141",
     "exception": false,
     "start_time": "2023-11-29T00:27:04.392299",
     "status": "completed"
    },
    "tags": []
   },
   "outputs": [],
   "source": [
    "model.save_weights('initial_weights.hdf5')"
   ]
  },
  {
   "cell_type": "code",
   "execution_count": 19,
   "id": "d72b224c",
   "metadata": {
    "execution": {
     "iopub.execute_input": "2023-11-29T00:27:04.511716Z",
     "iopub.status.busy": "2023-11-29T00:27:04.511391Z",
     "iopub.status.idle": "2023-11-29T00:27:04.793353Z",
     "shell.execute_reply": "2023-11-29T00:27:04.792389Z"
    },
    "papermill": {
     "duration": 0.297608,
     "end_time": "2023-11-29T00:27:04.795580",
     "exception": false,
     "start_time": "2023-11-29T00:27:04.497972",
     "status": "completed"
    },
    "tags": []
   },
   "outputs": [
    {
     "name": "stdout",
     "output_type": "stream",
     "text": [
      "Cantidad en val: 30188, porcentaje: 0.9642465458145908\n"
     ]
    }
   ],
   "source": [
    "df_train = df[df.Date < datetime.datetime(2015, 7, 1)]  \n",
    "df_val = df[df.Date >= datetime.datetime(2015, 7, 1)]\n",
    "print(f'Cantidad en val: {len(df_val)}, porcentaje: {len(df_train)/(len(df_train) + len(df_val))}')"
   ]
  },
  {
   "cell_type": "code",
   "execution_count": 20,
   "id": "75837a9a",
   "metadata": {
    "execution": {
     "iopub.execute_input": "2023-11-29T00:27:04.822603Z",
     "iopub.status.busy": "2023-11-29T00:27:04.822264Z",
     "iopub.status.idle": "2023-11-29T00:27:06.101875Z",
     "shell.execute_reply": "2023-11-29T00:27:06.101058Z"
    },
    "papermill": {
     "duration": 1.295586,
     "end_time": "2023-11-29T00:27:06.104152",
     "exception": false,
     "start_time": "2023-11-29T00:27:04.808566",
     "status": "completed"
    },
    "tags": []
   },
   "outputs": [],
   "source": [
    "stores_mean = {}\n",
    "for store, g_df in df_train.groupby('Store'):\n",
    "    stores_mean[store] = g_df[g_df['Sales'] > 0]['Sales'].mean()"
   ]
  },
  {
   "cell_type": "code",
   "execution_count": 21,
   "id": "c3370868",
   "metadata": {
    "execution": {
     "iopub.execute_input": "2023-11-29T00:27:06.131910Z",
     "iopub.status.busy": "2023-11-29T00:27:06.131214Z",
     "iopub.status.idle": "2023-11-29T00:27:06.496002Z",
     "shell.execute_reply": "2023-11-29T00:27:06.495037Z"
    },
    "papermill": {
     "duration": 0.381141,
     "end_time": "2023-11-29T00:27:06.498383",
     "exception": false,
     "start_time": "2023-11-29T00:27:06.117242",
     "status": "completed"
    },
    "tags": []
   },
   "outputs": [
    {
     "name": "stderr",
     "output_type": "stream",
     "text": [
      "/tmp/ipykernel_26/3553976367.py:1: SettingWithCopyWarning: \n",
      "A value is trying to be set on a copy of a slice from a DataFrame.\n",
      "Try using .loc[row_indexer,col_indexer] = value instead\n",
      "\n",
      "See the caveats in the documentation: https://pandas.pydata.org/pandas-docs/stable/user_guide/indexing.html#returning-a-view-versus-a-copy\n",
      "  df_train.loc[:, 'mean_by_store'] = df_train['Store'].apply(stores_mean.get)\n",
      "/tmp/ipykernel_26/3553976367.py:2: SettingWithCopyWarning: \n",
      "A value is trying to be set on a copy of a slice from a DataFrame.\n",
      "Try using .loc[row_indexer,col_indexer] = value instead\n",
      "\n",
      "See the caveats in the documentation: https://pandas.pydata.org/pandas-docs/stable/user_guide/indexing.html#returning-a-view-versus-a-copy\n",
      "  df_val.loc[:, 'mean_by_store'] = df_val['Store'].apply(stores_mean.get)\n",
      "/tmp/ipykernel_26/3553976367.py:4: SettingWithCopyWarning: \n",
      "A value is trying to be set on a copy of a slice from a DataFrame.\n",
      "Try using .loc[row_indexer,col_indexer] = value instead\n",
      "\n",
      "See the caveats in the documentation: https://pandas.pydata.org/pandas-docs/stable/user_guide/indexing.html#returning-a-view-versus-a-copy\n",
      "  df_train.loc[:, 'Sales_store'] = df_train['Sales'] - df_train['mean_by_store']\n",
      "/tmp/ipykernel_26/3553976367.py:5: SettingWithCopyWarning: \n",
      "A value is trying to be set on a copy of a slice from a DataFrame.\n",
      "Try using .loc[row_indexer,col_indexer] = value instead\n",
      "\n",
      "See the caveats in the documentation: https://pandas.pydata.org/pandas-docs/stable/user_guide/indexing.html#returning-a-view-versus-a-copy\n",
      "  df_val.loc[:, 'Sales_store'] = df_val['Sales'] - df_val['mean_by_store']\n"
     ]
    }
   ],
   "source": [
    "df_train.loc[:, 'mean_by_store'] = df_train['Store'].apply(stores_mean.get)\n",
    "df_val.loc[:, 'mean_by_store'] = df_val['Store'].apply(stores_mean.get)\n",
    "\n",
    "df_train.loc[:, 'Sales_store'] = df_train['Sales'] - df_train['mean_by_store']\n",
    "df_val.loc[:, 'Sales_store'] = df_val['Sales'] - df_val['mean_by_store']"
   ]
  },
  {
   "cell_type": "code",
   "execution_count": 22,
   "id": "65fe2f7e",
   "metadata": {
    "execution": {
     "iopub.execute_input": "2023-11-29T00:27:06.525767Z",
     "iopub.status.busy": "2023-11-29T00:27:06.525473Z",
     "iopub.status.idle": "2023-11-29T00:27:06.529515Z",
     "shell.execute_reply": "2023-11-29T00:27:06.528682Z"
    },
    "papermill": {
     "duration": 0.019755,
     "end_time": "2023-11-29T00:27:06.531353",
     "exception": false,
     "start_time": "2023-11-29T00:27:06.511598",
     "status": "completed"
    },
    "tags": []
   },
   "outputs": [],
   "source": [
    "from tensorflow.keras import backend as K"
   ]
  },
  {
   "cell_type": "code",
   "execution_count": 23,
   "id": "4d63aecb",
   "metadata": {
    "execution": {
     "iopub.execute_input": "2023-11-29T00:27:06.558473Z",
     "iopub.status.busy": "2023-11-29T00:27:06.558179Z",
     "iopub.status.idle": "2023-11-29T00:27:06.562633Z",
     "shell.execute_reply": "2023-11-29T00:27:06.561774Z"
    },
    "papermill": {
     "duration": 0.019985,
     "end_time": "2023-11-29T00:27:06.564611",
     "exception": false,
     "start_time": "2023-11-29T00:27:06.544626",
     "status": "completed"
    },
    "tags": []
   },
   "outputs": [],
   "source": [
    "def rmspe(y_true, y_pred):\n",
    "    return K.sqrt(K.mean(K.square((y_true - y_pred)/y_true)))"
   ]
  },
  {
   "cell_type": "code",
   "execution_count": 24,
   "id": "7a046806",
   "metadata": {
    "execution": {
     "iopub.execute_input": "2023-11-29T00:27:06.591009Z",
     "iopub.status.busy": "2023-11-29T00:27:06.590743Z",
     "iopub.status.idle": "2023-11-29T00:27:06.598754Z",
     "shell.execute_reply": "2023-11-29T00:27:06.597900Z"
    },
    "papermill": {
     "duration": 0.023322,
     "end_time": "2023-11-29T00:27:06.600594",
     "exception": false,
     "start_time": "2023-11-29T00:27:06.577272",
     "status": "completed"
    },
    "tags": []
   },
   "outputs": [
    {
     "data": {
      "text/plain": [
       "0.3071746085338871"
      ]
     },
     "execution_count": 24,
     "metadata": {},
     "output_type": "execute_result"
    }
   ],
   "source": [
    "def get_metric(df, sales_):\n",
    "    return np.sqrt((((df['Sales'] - sales_)/df['Sales'])**2).mean())\n",
    "get_metric(df_val, df_val['mean_by_store'])"
   ]
  },
  {
   "cell_type": "code",
   "execution_count": 25,
   "id": "8045d2c4",
   "metadata": {
    "execution": {
     "iopub.execute_input": "2023-11-29T00:27:06.627906Z",
     "iopub.status.busy": "2023-11-29T00:27:06.627563Z",
     "iopub.status.idle": "2023-11-29T00:27:06.819657Z",
     "shell.execute_reply": "2023-11-29T00:27:06.818777Z"
    },
    "papermill": {
     "duration": 0.208758,
     "end_time": "2023-11-29T00:27:06.822342",
     "exception": false,
     "start_time": "2023-11-29T00:27:06.613584",
     "status": "completed"
    },
    "tags": []
   },
   "outputs": [],
   "source": [
    "all_vars = cat_vars + contin_vars\n",
    "X_train = np.hsplit(df_train[all_vars].values, len(all_vars))\n",
    "X_val = np.hsplit(df_val[all_vars].values, len(all_vars))\n",
    "X_test = np.hsplit(df_test[all_vars].values, len(all_vars))"
   ]
  },
  {
   "cell_type": "code",
   "execution_count": 26,
   "id": "890fc417",
   "metadata": {
    "execution": {
     "iopub.execute_input": "2023-11-29T00:27:06.851757Z",
     "iopub.status.busy": "2023-11-29T00:27:06.851384Z",
     "iopub.status.idle": "2023-11-29T00:27:06.883226Z",
     "shell.execute_reply": "2023-11-29T00:27:06.882454Z"
    },
    "papermill": {
     "duration": 0.049139,
     "end_time": "2023-11-29T00:27:06.885618",
     "exception": false,
     "start_time": "2023-11-29T00:27:06.836479",
     "status": "completed"
    },
    "tags": []
   },
   "outputs": [],
   "source": [
    "if add_customers:\n",
    "    y_out_columns = ['Sales', 'Customers']\n",
    "else:\n",
    "    y_out_columns = ['Sales_store']\n",
    "    \n",
    "if log_output:\n",
    "    # Escala logaritmica\n",
    "    max_log_y = np.max(np.log(df[y_out_columns].values))\n",
    "    y_train = np.log(df_train[y_out_columns].values)/max_log_y\n",
    "    y_val = np.log(df_val[y_out_columns].values)/max_log_y\n",
    "else:\n",
    "    # Normalización\n",
    "    y_mean = df_train[y_out_columns].mean().values\n",
    "    y_std = df_train[y_out_columns].std().values\n",
    "    #y_train = (df_train[y_out_columns].values - y_mean)/y_std\n",
    "    #y_val = (df_val[y_out_columns].values - y_mean)/y_std\n",
    "    y_max = df_train[y_out_columns].max().values\n",
    "    y_train = df_train[y_out_columns].values/y_max\n",
    "    y_val = df_val[y_out_columns].values/y_max\n",
    "y_train = np.hsplit(y_train, y_train.shape[1])\n",
    "y_val = np.hsplit(y_val, y_val.shape[1])"
   ]
  },
  {
   "cell_type": "code",
   "execution_count": 27,
   "id": "5375a09e",
   "metadata": {
    "execution": {
     "iopub.execute_input": "2023-11-29T00:27:06.916546Z",
     "iopub.status.busy": "2023-11-29T00:27:06.916130Z",
     "iopub.status.idle": "2023-11-29T00:27:06.935225Z",
     "shell.execute_reply": "2023-11-29T00:27:06.934476Z"
    },
    "papermill": {
     "duration": 0.037536,
     "end_time": "2023-11-29T00:27:06.937319",
     "exception": false,
     "start_time": "2023-11-29T00:27:06.899783",
     "status": "completed"
    },
    "tags": []
   },
   "outputs": [],
   "source": [
    "lr = 0.0001\n",
    "model.compile(optimizer=Adam(lr=lr), metrics=['mse', rmspe], loss='mse')"
   ]
  },
  {
   "cell_type": "code",
   "execution_count": 28,
   "id": "e8141396",
   "metadata": {
    "execution": {
     "iopub.execute_input": "2023-11-29T00:27:06.966261Z",
     "iopub.status.busy": "2023-11-29T00:27:06.965752Z",
     "iopub.status.idle": "2023-11-29T00:27:06.970783Z",
     "shell.execute_reply": "2023-11-29T00:27:06.969839Z"
    },
    "papermill": {
     "duration": 0.021646,
     "end_time": "2023-11-29T00:27:06.972941",
     "exception": false,
     "start_time": "2023-11-29T00:27:06.951295",
     "status": "completed"
    },
    "tags": []
   },
   "outputs": [],
   "source": [
    "if add_customers:\n",
    "    checkpoint = ModelCheckpoint('bestmodel.hdf5', monitor='val_Sales_mse', verbose=1, save_best_only=True)\n",
    "else:\n",
    "    checkpoint = ModelCheckpoint('bestmodel.hdf5', monitor='val_loss', verbose=1, save_best_only=True)"
   ]
  },
  {
   "cell_type": "code",
   "execution_count": 29,
   "id": "56d332a1",
   "metadata": {
    "execution": {
     "iopub.execute_input": "2023-11-29T00:27:07.000300Z",
     "iopub.status.busy": "2023-11-29T00:27:07.000047Z",
     "iopub.status.idle": "2023-11-29T00:27:07.004500Z",
     "shell.execute_reply": "2023-11-29T00:27:07.003617Z"
    },
    "papermill": {
     "duration": 0.020376,
     "end_time": "2023-11-29T00:27:07.006407",
     "exception": false,
     "start_time": "2023-11-29T00:27:06.986031",
     "status": "completed"
    },
    "tags": []
   },
   "outputs": [],
   "source": [
    "rlrop = ReduceLROnPlateau(\n",
    "    monitor = \"val_Sales_mse\",\n",
    "    factor = 0.5,\n",
    "    patience = 3,\n",
    "    verbose = 1,\n",
    "    min_lr = 1e-5\n",
    ")"
   ]
  },
  {
   "cell_type": "code",
   "execution_count": 30,
   "id": "2c75b755",
   "metadata": {
    "execution": {
     "iopub.execute_input": "2023-11-29T00:27:07.033693Z",
     "iopub.status.busy": "2023-11-29T00:27:07.033372Z",
     "iopub.status.idle": "2023-11-29T00:27:07.037724Z",
     "shell.execute_reply": "2023-11-29T00:27:07.036872Z"
    },
    "papermill": {
     "duration": 0.020414,
     "end_time": "2023-11-29T00:27:07.039682",
     "exception": false,
     "start_time": "2023-11-29T00:27:07.019268",
     "status": "completed"
    },
    "tags": []
   },
   "outputs": [],
   "source": [
    "es = EarlyStopping(\n",
    "    monitor = \"val_Sales_mse\",\n",
    "    patience = 7, \n",
    "    verbose = 1,\n",
    "    restore_best_weights = True,\n",
    ")"
   ]
  },
  {
   "cell_type": "code",
   "execution_count": 31,
   "id": "5c4c8322",
   "metadata": {
    "execution": {
     "iopub.execute_input": "2023-11-29T00:27:07.066823Z",
     "iopub.status.busy": "2023-11-29T00:27:07.066271Z",
     "iopub.status.idle": "2023-11-29T00:38:33.289888Z",
     "shell.execute_reply": "2023-11-29T00:38:33.288945Z"
    },
    "papermill": {
     "duration": 686.239774,
     "end_time": "2023-11-29T00:38:33.292292",
     "exception": false,
     "start_time": "2023-11-29T00:27:07.052518",
     "status": "completed"
    },
    "tags": []
   },
   "outputs": [
    {
     "name": "stdout",
     "output_type": "stream",
     "text": [
      "Epoch 1/15\n",
      "\n",
      "Epoch 1: val_Sales_mse improved from inf to 0.00671, saving model to bestmodel.hdf5\n",
      "3181/3181 - 73s - loss: 0.2372 - Sales_loss: 0.0213 - Customers_loss: 0.0157 - Sales_mse: 0.0213 - Sales_rmspe: 0.1208 - Customers_mse: 0.0157 - Customers_rmspe: 0.1332 - val_loss: 0.0263 - val_Sales_loss: 0.0067 - val_Customers_loss: 0.0062 - val_Sales_mse: 0.0067 - val_Sales_rmspe: 0.0979 - val_Customers_mse: 0.0062 - val_Customers_rmspe: 0.1271 - lr: 0.0010 - 73s/epoch - 23ms/step\n",
      "Epoch 2/15\n"
     ]
    },
    {
     "name": "stderr",
     "output_type": "stream",
     "text": [
      "/opt/conda/lib/python3.10/site-packages/keras/src/engine/training.py:3000: UserWarning: You are saving your model as an HDF5 file via `model.save()`. This file format is considered legacy. We recommend using instead the native Keras format, e.g. `model.save('my_model.keras')`.\n",
      "  saving_api.save_model(\n"
     ]
    },
    {
     "name": "stdout",
     "output_type": "stream",
     "text": [
      "\n",
      "Epoch 2: val_Sales_mse improved from 0.00671 to 0.00047, saving model to bestmodel.hdf5\n",
      "3181/3181 - 43s - loss: 0.0043 - Sales_loss: 0.0012 - Customers_loss: 6.7591e-04 - Sales_mse: 0.0012 - Sales_rmspe: 0.0409 - Customers_mse: 6.7591e-04 - Customers_rmspe: 0.0419 - val_loss: 0.0012 - val_Sales_loss: 4.7428e-04 - val_Customers_loss: 3.8300e-04 - val_Sales_mse: 4.7428e-04 - val_Sales_rmspe: 0.0261 - val_Customers_mse: 3.8300e-04 - val_Customers_rmspe: 0.0317 - lr: 0.0010 - 43s/epoch - 13ms/step\n",
      "Epoch 3/15\n",
      "\n",
      "Epoch 3: val_Sales_mse improved from 0.00047 to 0.00031, saving model to bestmodel.hdf5\n",
      "3181/3181 - 43s - loss: 7.2204e-04 - Sales_loss: 3.4780e-04 - Customers_loss: 2.2515e-04 - Sales_mse: 3.4780e-04 - Sales_rmspe: 0.0222 - Customers_mse: 2.2515e-04 - Customers_rmspe: 0.0241 - val_loss: 5.2406e-04 - val_Sales_loss: 3.1064e-04 - val_Customers_loss: 1.5108e-04 - val_Sales_mse: 3.1064e-04 - val_Sales_rmspe: 0.0210 - val_Customers_mse: 1.5108e-04 - val_Customers_rmspe: 0.0198 - lr: 0.0010 - 43s/epoch - 13ms/step\n",
      "Epoch 4/15\n",
      "\n",
      "Epoch 4: val_Sales_mse improved from 0.00031 to 0.00023, saving model to bestmodel.hdf5\n",
      "3181/3181 - 43s - loss: 3.1672e-04 - Sales_loss: 1.5205e-04 - Customers_loss: 1.2647e-04 - Sales_mse: 1.5205e-04 - Sales_rmspe: 0.0152 - Customers_mse: 1.2647e-04 - Customers_rmspe: 0.0186 - val_loss: 4.1208e-04 - val_Sales_loss: 2.2834e-04 - val_Customers_loss: 1.4945e-04 - val_Sales_mse: 2.2834e-04 - val_Sales_rmspe: 0.0184 - val_Customers_mse: 1.4945e-04 - val_Customers_rmspe: 0.0199 - lr: 0.0010 - 43s/epoch - 13ms/step\n",
      "Epoch 5/15\n",
      "\n",
      "Epoch 5: val_Sales_mse improved from 0.00023 to 0.00012, saving model to bestmodel.hdf5\n",
      "3181/3181 - 43s - loss: 2.8925e-04 - Sales_loss: 1.4145e-04 - Customers_loss: 1.1721e-04 - Sales_mse: 1.4145e-04 - Sales_rmspe: 0.0146 - Customers_mse: 1.1721e-04 - Customers_rmspe: 0.0179 - val_loss: 2.5409e-04 - val_Sales_loss: 1.2386e-04 - val_Customers_loss: 1.0184e-04 - val_Sales_mse: 1.2386e-04 - val_Sales_rmspe: 0.0135 - val_Customers_mse: 1.0184e-04 - val_Customers_rmspe: 0.0165 - lr: 0.0010 - 43s/epoch - 14ms/step\n",
      "Epoch 6/15\n",
      "\n",
      "Epoch 6: val_Sales_mse did not improve from 0.00012\n",
      "3181/3181 - 42s - loss: 2.6564e-04 - Sales_loss: 1.3082e-04 - Customers_loss: 1.0691e-04 - Sales_mse: 1.3082e-04 - Sales_rmspe: 0.0141 - Customers_mse: 1.0691e-04 - Customers_rmspe: 0.0171 - val_loss: 2.6822e-04 - val_Sales_loss: 1.5190e-04 - val_Customers_loss: 8.8264e-05 - val_Sales_mse: 1.5190e-04 - val_Sales_rmspe: 0.0148 - val_Customers_mse: 8.8264e-05 - val_Customers_rmspe: 0.0153 - lr: 0.0010 - 42s/epoch - 13ms/step\n",
      "Epoch 7/15\n",
      "\n",
      "Epoch 7: val_Sales_mse did not improve from 0.00012\n",
      "3181/3181 - 42s - loss: 2.4940e-04 - Sales_loss: 1.2220e-04 - Customers_loss: 9.8675e-05 - Sales_mse: 1.2220e-04 - Sales_rmspe: 0.0136 - Customers_mse: 9.8675e-05 - Customers_rmspe: 0.0164 - val_loss: 3.0204e-04 - val_Sales_loss: 1.5755e-04 - val_Customers_loss: 1.1673e-04 - val_Sales_mse: 1.5755e-04 - val_Sales_rmspe: 0.0151 - val_Customers_mse: 1.1673e-04 - val_Customers_rmspe: 0.0175 - lr: 0.0010 - 42s/epoch - 13ms/step\n",
      "Epoch 8/15\n",
      "\n",
      "Epoch 8: ReduceLROnPlateau reducing learning rate to 0.0005000000237487257.\n",
      "\n",
      "Epoch 8: val_Sales_mse did not improve from 0.00012\n",
      "3181/3181 - 42s - loss: 2.3385e-04 - Sales_loss: 1.1381e-04 - Customers_loss: 9.1683e-05 - Sales_mse: 1.1381e-04 - Sales_rmspe: 0.0131 - Customers_mse: 9.1683e-05 - Customers_rmspe: 0.0158 - val_loss: 2.5557e-04 - val_Sales_loss: 1.2454e-04 - val_Customers_loss: 1.0324e-04 - val_Sales_mse: 1.2454e-04 - val_Sales_rmspe: 0.0134 - val_Customers_mse: 1.0324e-04 - val_Customers_rmspe: 0.0163 - lr: 0.0010 - 42s/epoch - 13ms/step\n",
      "Epoch 9/15\n",
      "\n",
      "Epoch 9: val_Sales_mse improved from 0.00012 to 0.00011, saving model to bestmodel.hdf5\n",
      "3181/3181 - 42s - loss: 1.9438e-04 - Sales_loss: 9.8324e-05 - Customers_loss: 7.7637e-05 - Sales_mse: 9.8324e-05 - Sales_rmspe: 0.0122 - Customers_mse: 7.7637e-05 - Customers_rmspe: 0.0146 - val_loss: 2.0973e-04 - val_Sales_loss: 1.0882e-04 - val_Customers_loss: 8.3218e-05 - val_Sales_mse: 1.0882e-04 - val_Sales_rmspe: 0.0126 - val_Customers_mse: 8.3218e-05 - val_Customers_rmspe: 0.0148 - lr: 5.0000e-04 - 42s/epoch - 13ms/step\n",
      "Epoch 10/15\n",
      "\n",
      "Epoch 10: val_Sales_mse did not improve from 0.00011\n",
      "3181/3181 - 42s - loss: 1.8832e-04 - Sales_loss: 9.5080e-05 - Customers_loss: 7.5461e-05 - Sales_mse: 9.5080e-05 - Sales_rmspe: 0.0120 - Customers_mse: 7.5461e-05 - Customers_rmspe: 0.0143 - val_loss: 1.9729e-04 - val_Sales_loss: 1.0896e-04 - val_Customers_loss: 7.1801e-05 - val_Sales_mse: 1.0896e-04 - val_Sales_rmspe: 0.0126 - val_Customers_mse: 7.1801e-05 - val_Customers_rmspe: 0.0138 - lr: 5.0000e-04 - 42s/epoch - 13ms/step\n",
      "Epoch 11/15\n",
      "\n",
      "Epoch 11: ReduceLROnPlateau reducing learning rate to 0.0002500000118743628.\n",
      "\n",
      "Epoch 11: val_Sales_mse improved from 0.00011 to 0.00010, saving model to bestmodel.hdf5\n",
      "3181/3181 - 42s - loss: 1.8451e-04 - Sales_loss: 9.3284e-05 - Customers_loss: 7.3607e-05 - Sales_mse: 9.3284e-05 - Sales_rmspe: 0.0119 - Customers_mse: 7.3607e-05 - Customers_rmspe: 0.0142 - val_loss: 1.9274e-04 - val_Sales_loss: 1.0498e-04 - val_Customers_loss: 7.0960e-05 - val_Sales_mse: 1.0498e-04 - val_Sales_rmspe: 0.0124 - val_Customers_mse: 7.0960e-05 - val_Customers_rmspe: 0.0137 - lr: 5.0000e-04 - 42s/epoch - 13ms/step\n",
      "Epoch 12/15\n",
      "\n",
      "Epoch 12: val_Sales_mse improved from 0.00010 to 0.00010, saving model to bestmodel.hdf5\n",
      "3181/3181 - 42s - loss: 1.6213e-04 - Sales_loss: 8.4718e-05 - Customers_loss: 6.5753e-05 - Sales_mse: 8.4718e-05 - Sales_rmspe: 0.0113 - Customers_mse: 6.5753e-05 - Customers_rmspe: 0.0134 - val_loss: 1.8201e-04 - val_Sales_loss: 1.0076e-04 - val_Customers_loss: 6.9701e-05 - val_Sales_mse: 1.0076e-04 - val_Sales_rmspe: 0.0122 - val_Customers_mse: 6.9701e-05 - val_Customers_rmspe: 0.0136 - lr: 2.5000e-04 - 42s/epoch - 13ms/step\n",
      "Epoch 13/15\n",
      "\n",
      "Epoch 13: val_Sales_mse did not improve from 0.00010\n",
      "3181/3181 - 42s - loss: 1.6055e-04 - Sales_loss: 8.3993e-05 - Customers_loss: 6.5411e-05 - Sales_mse: 8.3993e-05 - Sales_rmspe: 0.0113 - Customers_mse: 6.5411e-05 - Customers_rmspe: 0.0134 - val_loss: 1.8111e-04 - val_Sales_loss: 1.0356e-04 - val_Customers_loss: 6.6394e-05 - val_Sales_mse: 1.0356e-04 - val_Sales_rmspe: 0.0123 - val_Customers_mse: 6.6394e-05 - val_Customers_rmspe: 0.0133 - lr: 2.5000e-04 - 42s/epoch - 13ms/step\n",
      "Epoch 14/15\n",
      "\n",
      "Epoch 14: ReduceLROnPlateau reducing learning rate to 0.0001250000059371814.\n",
      "\n",
      "Epoch 14: val_Sales_mse did not improve from 0.00010\n",
      "3181/3181 - 42s - loss: 1.5849e-04 - Sales_loss: 8.2783e-05 - Customers_loss: 6.4558e-05 - Sales_mse: 8.2783e-05 - Sales_rmspe: 0.0112 - Customers_mse: 6.4558e-05 - Customers_rmspe: 0.0133 - val_loss: 1.8513e-04 - val_Sales_loss: 1.0654e-04 - val_Customers_loss: 6.7507e-05 - val_Sales_mse: 1.0654e-04 - val_Sales_rmspe: 0.0125 - val_Customers_mse: 6.7507e-05 - val_Customers_rmspe: 0.0134 - lr: 2.5000e-04 - 42s/epoch - 13ms/step\n",
      "Epoch 15/15\n",
      "\n",
      "Epoch 15: val_Sales_mse improved from 0.00010 to 0.00010, saving model to bestmodel.hdf5\n",
      "3181/3181 - 42s - loss: 1.4525e-04 - Sales_loss: 7.7803e-05 - Customers_loss: 5.9624e-05 - Sales_mse: 7.7803e-05 - Sales_rmspe: 0.0108 - Customers_mse: 5.9624e-05 - Customers_rmspe: 0.0128 - val_loss: 1.6974e-04 - val_Sales_loss: 9.6419e-05 - val_Customers_loss: 6.5650e-05 - val_Sales_mse: 9.6419e-05 - val_Sales_rmspe: 0.0119 - val_Customers_mse: 6.5650e-05 - val_Customers_rmspe: 0.0132 - lr: 1.2500e-04 - 42s/epoch - 13ms/step\n"
     ]
    }
   ],
   "source": [
    "epochs = 15\n",
    "batch_size = 256\n",
    "history = model.fit(\n",
    "    X_train, y_train, \n",
    "    validation_data=(X_val, y_val),  \n",
    "    epochs=epochs, \n",
    "    batch_size=batch_size, \n",
    "    callbacks=[rlrop, es, checkpoint], \n",
    "    verbose=2\n",
    ")"
   ]
  },
  {
   "cell_type": "code",
   "execution_count": 32,
   "id": "2a7650c7",
   "metadata": {
    "execution": {
     "iopub.execute_input": "2023-11-29T00:38:33.328110Z",
     "iopub.status.busy": "2023-11-29T00:38:33.327276Z",
     "iopub.status.idle": "2023-11-29T00:38:33.331721Z",
     "shell.execute_reply": "2023-11-29T00:38:33.330815Z"
    },
    "papermill": {
     "duration": 0.024163,
     "end_time": "2023-11-29T00:38:33.333506",
     "exception": false,
     "start_time": "2023-11-29T00:38:33.309343",
     "status": "completed"
    },
    "tags": []
   },
   "outputs": [],
   "source": [
    "import matplotlib.pyplot as plt"
   ]
  },
  {
   "cell_type": "code",
   "execution_count": 33,
   "id": "9f992409",
   "metadata": {
    "execution": {
     "iopub.execute_input": "2023-11-29T00:38:33.368120Z",
     "iopub.status.busy": "2023-11-29T00:38:33.367831Z",
     "iopub.status.idle": "2023-11-29T00:38:33.638848Z",
     "shell.execute_reply": "2023-11-29T00:38:33.637909Z"
    },
    "papermill": {
     "duration": 0.290745,
     "end_time": "2023-11-29T00:38:33.640885",
     "exception": false,
     "start_time": "2023-11-29T00:38:33.350140",
     "status": "completed"
    },
    "tags": []
   },
   "outputs": [
    {
     "data": {
      "text/plain": [
       "<matplotlib.legend.Legend at 0x79f6b025fb50>"
      ]
     },
     "execution_count": 33,
     "metadata": {},
     "output_type": "execute_result"
    },
    {
     "data": {
      "image/png": "[encoded data removed]",
      "text/plain": [
       "<Figure size 640x480 with 1 Axes>"
      ]
     },
     "metadata": {},
     "output_type": "display_data"
    }
   ],
   "source": [
    "plt.plot(history.history[\"loss\"], label='Train')\n",
    "plt.plot(history.history[\"val_loss\"], label='Validation')\n",
    "plt.title(\"Loss\")\n",
    "plt.legend()\n",
    "#plt.plot(history.history['val_loss'])\n",
    "# plt.plot(history.history['val_Customers_mse'])\n",
    "# plt.plot(history.history['val_Sales_mse'])\n",
    "#plt.show()\n",
    "#plt.plot(history.history['loss'])\n",
    "# plt.plot(history.history['Customers_mse'])\n",
    "# plt.plot(history.history['Sales_mse'])"
   ]
  },
  {
   "cell_type": "markdown",
   "id": "eccd8506",
   "metadata": {
    "papermill": {
     "duration": 0.017103,
     "end_time": "2023-11-29T00:38:33.675317",
     "exception": false,
     "start_time": "2023-11-29T00:38:33.658214",
     "status": "completed"
    },
    "tags": []
   },
   "source": [
    "# Métrica"
   ]
  },
  {
   "cell_type": "markdown",
   "id": "cb66f0d6",
   "metadata": {
    "papermill": {
     "duration": 0.016994,
     "end_time": "2023-11-29T00:38:33.709477",
     "exception": false,
     "start_time": "2023-11-29T00:38:33.692483",
     "status": "completed"
    },
    "tags": []
   },
   "source": [
    "$$\n",
    "\\textrm{RMSE} = \\sqrt{\\frac{1}{n} \\sum_{i=1}^{n} \\left(\\frac{\\hat{y}_i - y_i}{y_i}\\right)^2}\n",
    "$$"
   ]
  },
  {
   "cell_type": "code",
   "execution_count": 34,
   "id": "313607ff",
   "metadata": {
    "execution": {
     "iopub.execute_input": "2023-11-29T00:38:33.745620Z",
     "iopub.status.busy": "2023-11-29T00:38:33.744893Z",
     "iopub.status.idle": "2023-11-29T00:38:38.786838Z",
     "shell.execute_reply": "2023-11-29T00:38:38.785758Z"
    },
    "papermill": {
     "duration": 5.062172,
     "end_time": "2023-11-29T00:38:38.788758",
     "exception": false,
     "start_time": "2023-11-29T00:38:33.726586",
     "status": "completed"
    },
    "tags": []
   },
   "outputs": [
    {
     "name": "stdout",
     "output_type": "stream",
     "text": [
      "944/944 [==============================] - 5s 5ms/step - loss: 1.6974e-04 - Sales_loss: 9.6420e-05 - Customers_loss: 6.5650e-05 - Sales_mse: 9.6420e-05 - Sales_rmspe: 0.0117 - Customers_mse: 6.5650e-05 - Customers_rmspe: 0.0129\n"
     ]
    },
    {
     "data": {
      "text/plain": [
       "[0.00016973969468381256,\n",
       " 9.641952783567831e-05,\n",
       " 6.564962677657604e-05,\n",
       " 9.641952783567831e-05,\n",
       " 0.011690854094922543,\n",
       " 6.564962677657604e-05,\n",
       " 0.01288848277181387]"
      ]
     },
     "execution_count": 34,
     "metadata": {},
     "output_type": "execute_result"
    }
   ],
   "source": [
    "model.evaluate(X_val, y_val)"
   ]
  },
  {
   "cell_type": "code",
   "execution_count": 35,
   "id": "8fb8fcc0",
   "metadata": {
    "execution": {
     "iopub.execute_input": "2023-11-29T00:38:38.841264Z",
     "iopub.status.busy": "2023-11-29T00:38:38.840616Z",
     "iopub.status.idle": "2023-11-29T00:38:43.957791Z",
     "shell.execute_reply": "2023-11-29T00:38:43.956735Z"
    },
    "papermill": {
     "duration": 5.145125,
     "end_time": "2023-11-29T00:38:43.959745",
     "exception": false,
     "start_time": "2023-11-29T00:38:38.814620",
     "status": "completed"
    },
    "tags": []
   },
   "outputs": [
    {
     "name": "stdout",
     "output_type": "stream",
     "text": [
      "944/944 [==============================] - 5s 5ms/step - loss: 1.6974e-04 - Sales_loss: 9.6420e-05 - Customers_loss: 6.5650e-05 - Sales_mse: 9.6420e-05 - Sales_rmspe: 0.0117 - Customers_mse: 6.5650e-05 - Customers_rmspe: 0.0129\n"
     ]
    },
    {
     "data": {
      "text/plain": [
       "[0.00016973969468381256,\n",
       " 9.641952783567831e-05,\n",
       " 6.564962677657604e-05,\n",
       " 9.641952783567831e-05,\n",
       " 0.011690854094922543,\n",
       " 6.564962677657604e-05,\n",
       " 0.01288848277181387]"
      ]
     },
     "execution_count": 35,
     "metadata": {},
     "output_type": "execute_result"
    }
   ],
   "source": [
    "model.load_weights('bestmodel.hdf5')\n",
    "model.evaluate(X_val, y_val)"
   ]
  },
  {
   "cell_type": "code",
   "execution_count": 36,
   "id": "f4ff8cd6",
   "metadata": {
    "execution": {
     "iopub.execute_input": "2023-11-29T00:38:44.028919Z",
     "iopub.status.busy": "2023-11-29T00:38:44.028132Z",
     "iopub.status.idle": "2023-11-29T00:38:56.297904Z",
     "shell.execute_reply": "2023-11-29T00:38:56.296849Z"
    },
    "papermill": {
     "duration": 12.306318,
     "end_time": "2023-11-29T00:38:56.300227",
     "exception": false,
     "start_time": "2023-11-29T00:38:43.993909",
     "status": "completed"
    },
    "tags": []
   },
   "outputs": [
    {
     "name": "stdout",
     "output_type": "stream",
     "text": [
      "944/944 [==============================] - 4s 4ms/step\n",
      "1284/1284 [==============================] - 6s 5ms/step\n"
     ]
    }
   ],
   "source": [
    "if log_output:\n",
    "    if add_customers:\n",
    "        y_pred = np.exp(model.predict(X_val, verbose=1)[0][:, 0]*max_log_y)\n",
    "        y_pred_test = np.exp(model.predict(X_test, verbose=1)[0][:, 0]*max_log_y)\n",
    "    else:\n",
    "        y_pred = np.exp(model.predict(X_val, verbose=1)*max_log_y)[:,0]\n",
    "        y_pred_test = np.exp(model.predict(X_test, verbose=1)*max_log_y)[:,0]\n",
    "else:\n",
    "    if add_customers:\n",
    "        y_pred = (model.predict(X_val, verbose=1)[0]*y_std[0] + y_mean[0])[:,0]\n",
    "        y_pred_test = (model.predict(X_test, verbose=1)[0]*y_std[0] + y_mean[0])[:,0]\n",
    "    else:\n",
    "        #y_pred = model.predict(X_val, verbose=1)[:,0]*y_std + y_mean\n",
    "        #y_pred_test = model.predict(X_test, verbose=1)[:,0]*y_std + y_mean\n",
    "        y_pred = model.predict(X_val, verbose=1)[:,0]*y_max\n",
    "        y_pred_test = model.predict(X_test, verbose=1)[:,0]*y_max\n",
    "y_pred_test[df_test['Open'] == 0] = 0"
   ]
  },
  {
   "cell_type": "code",
   "execution_count": 37,
   "id": "08c7a24d",
   "metadata": {
    "execution": {
     "iopub.execute_input": "2023-11-29T00:38:56.396628Z",
     "iopub.status.busy": "2023-11-29T00:38:56.395858Z",
     "iopub.status.idle": "2023-11-29T00:38:56.403357Z",
     "shell.execute_reply": "2023-11-29T00:38:56.402466Z"
    },
    "papermill": {
     "duration": 0.057679,
     "end_time": "2023-11-29T00:38:56.405138",
     "exception": false,
     "start_time": "2023-11-29T00:38:56.347459",
     "status": "completed"
    },
    "tags": []
   },
   "outputs": [
    {
     "data": {
      "text/plain": [
       "0.10988678882515715"
      ]
     },
     "execution_count": 37,
     "metadata": {},
     "output_type": "execute_result"
    }
   ],
   "source": [
    "np.sqrt((((df_val['Sales'].values - y_pred)/df_val['Sales'].values)**2).sum()/len(y_pred))"
   ]
  },
  {
   "cell_type": "code",
   "execution_count": 38,
   "id": "b12f1df9",
   "metadata": {
    "execution": {
     "iopub.execute_input": "2023-11-29T00:38:56.501392Z",
     "iopub.status.busy": "2023-11-29T00:38:56.500674Z",
     "iopub.status.idle": "2023-11-29T00:38:56.507142Z",
     "shell.execute_reply": "2023-11-29T00:38:56.506245Z"
    },
    "papermill": {
     "duration": 0.05645,
     "end_time": "2023-11-29T00:38:56.509066",
     "exception": false,
     "start_time": "2023-11-29T00:38:56.452616",
     "status": "completed"
    },
    "tags": []
   },
   "outputs": [
    {
     "data": {
      "text/plain": [
       "array([4600.218 , 6989.4   , 8785.938 , 7536.7007, 7220.7363, 5631.576 ,\n",
       "       7193.306 , 7649.6577, 4617.333 , 5772.3647], dtype=float32)"
      ]
     },
     "execution_count": 38,
     "metadata": {},
     "output_type": "execute_result"
    }
   ],
   "source": [
    "y_pred_test[:10]"
   ]
  },
  {
   "cell_type": "markdown",
   "id": "5456474d",
   "metadata": {
    "papermill": {
     "duration": 0.046464,
     "end_time": "2023-11-29T00:38:56.603995",
     "exception": false,
     "start_time": "2023-11-29T00:38:56.557531",
     "status": "completed"
    },
    "tags": []
   },
   "source": [
    "# Sumbit a la competición"
   ]
  },
  {
   "cell_type": "code",
   "execution_count": 39,
   "id": "bc8a045c",
   "metadata": {
    "execution": {
     "iopub.execute_input": "2023-11-29T00:38:56.699967Z",
     "iopub.status.busy": "2023-11-29T00:38:56.699162Z",
     "iopub.status.idle": "2023-11-29T00:38:56.703403Z",
     "shell.execute_reply": "2023-11-29T00:38:56.702499Z"
    },
    "papermill": {
     "duration": 0.054655,
     "end_time": "2023-11-29T00:38:56.705553",
     "exception": false,
     "start_time": "2023-11-29T00:38:56.650898",
     "status": "completed"
    },
    "tags": []
   },
   "outputs": [],
   "source": [
    "import pandas as pd"
   ]
  },
  {
   "cell_type": "code",
   "execution_count": 40,
   "id": "ff77ead5",
   "metadata": {
    "execution": {
     "iopub.execute_input": "2023-11-29T00:38:56.802408Z",
     "iopub.status.busy": "2023-11-29T00:38:56.802062Z",
     "iopub.status.idle": "2023-11-29T00:38:56.948130Z",
     "shell.execute_reply": "2023-11-29T00:38:56.947308Z"
    },
    "papermill": {
     "duration": 0.197188,
     "end_time": "2023-11-29T00:38:56.950460",
     "exception": false,
     "start_time": "2023-11-29T00:38:56.753272",
     "status": "completed"
    },
    "tags": []
   },
   "outputs": [],
   "source": [
    "sample_csv = pd.read_csv('/kaggle/input/rossmann-store-sales/sample_submission.csv')\n",
    "sample_csv['Sales'] = y_pred_test\n",
    "sample_csv.head()\n",
    "\n",
    "sample_csv.to_csv(f'submision.csv', index=False)"
   ]
  },
  {
   "cell_type": "markdown",
   "id": "ea21e610",
   "metadata": {
    "papermill": {
     "duration": 0.046608,
     "end_time": "2023-11-29T00:38:57.044468",
     "exception": false,
     "start_time": "2023-11-29T00:38:56.997860",
     "status": "completed"
    },
    "tags": []
   },
   "source": [
    "# Analisis de embedings"
   ]
  },
  {
   "cell_type": "code",
   "execution_count": 41,
   "id": "64030de3",
   "metadata": {
    "execution": {
     "iopub.execute_input": "2023-11-29T00:38:57.141216Z",
     "iopub.status.busy": "2023-11-29T00:38:57.140460Z",
     "iopub.status.idle": "2023-11-29T00:38:57.146695Z",
     "shell.execute_reply": "2023-11-29T00:38:57.145835Z"
    },
    "papermill": {
     "duration": 0.056825,
     "end_time": "2023-11-29T00:38:57.148607",
     "exception": false,
     "start_time": "2023-11-29T00:38:57.091782",
     "status": "completed"
    },
    "tags": []
   },
   "outputs": [],
   "source": [
    "def plot_embed(layer_name, cat_names):\n",
    "    Y = model.get_layer(layer_name).get_weights()[0]\n",
    "    print(Y.shape)\n",
    "    plt.figure(figsize=(8,8))\n",
    "    plt.scatter(-Y[:, 0], -Y[:, 1])\n",
    "    for i, txt in enumerate(cat_names):\n",
    "        plt.annotate(txt, (-Y[i, 0],-Y[i, 1]), xytext = (-5, 8), textcoords = 'offset points')"
   ]
  },
  {
   "cell_type": "code",
   "execution_count": 42,
   "id": "439bc4c9",
   "metadata": {
    "execution": {
     "iopub.execute_input": "2023-11-29T00:38:57.245242Z",
     "iopub.status.busy": "2023-11-29T00:38:57.244379Z",
     "iopub.status.idle": "2023-11-29T00:38:57.624205Z",
     "shell.execute_reply": "2023-11-29T00:38:57.623237Z"
    },
    "papermill": {
     "duration": 0.430576,
     "end_time": "2023-11-29T00:38:57.626218",
     "exception": false,
     "start_time": "2023-11-29T00:38:57.195642",
     "status": "completed"
    },
    "tags": []
   },
   "outputs": [
    {
     "name": "stdout",
     "output_type": "stream",
     "text": [
      "(7, 7)\n"
     ]
    },
    {
     "data": {
      "image/png": "[encoded data removed]",
      "text/plain": [
       "<Figure size 800x800 with 1 Axes>"
      ]
     },
     "metadata": {},
     "output_type": "display_data"
    }
   ],
   "source": [
    "model.load_weights('bestmodel.hdf5')\n",
    "plot_embed('DayOfWeek_Embed', ['Mon', 'Tue', 'Wed', 'Thu', 'Fri', 'Sat','Sun'])"
   ]
  }
 ],
 "metadata": {
  "kaggle": {
   "accelerator": "gpu",
   "dataSources": [
    {
     "databundleVersionId": 860645,
     "sourceId": 4594,
     "sourceType": "competition"
    },
    {
     "datasetId": 4002046,
     "sourceId": 6966028,
     "sourceType": "datasetVersion"
    }
   ],
   "dockerImageVersionId": 30579,
   "isGpuEnabled": true,
   "isInternetEnabled": true,
   "language": "python",
   "sourceType": "notebook"
  },
  "kernelspec": {
   "display_name": "Python 3",
   "language": "python",
   "name": "python3"
  },
  "language_info": {
   "codemirror_mode": {
    "name": "ipython",
    "version": 3
   },
   "file_extension": ".py",
   "mimetype": "text/x-python",
   "name": "python",
   "nbconvert_exporter": "python",
   "pygments_lexer": "ipython3",
   "version": "3.10.12"
  },
  "papermill": {
   "default_parameters": {},
   "duration": 738.840161,
   "end_time": "2023-11-29T00:39:00.553007",
   "environment_variables": {},
   "exception": null,
   "input_path": "__notebook__.ipynb",
   "output_path": "__notebook__.ipynb",
   "parameters": {},
   "start_time": "2023-11-29T00:26:41.712846",
   "version": "2.4.0"
  }
 },
 "nbformat": 4,
 "nbformat_minor": 5
}
